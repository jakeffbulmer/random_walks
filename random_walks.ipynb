{
 "cells": [
  {
   "cell_type": "markdown",
   "metadata": {},
   "source": [
    "In this notebook, we introduce how to construct the operations we defined in the previous section using Python and NumPy, both of which are free to use software packages.\n",
    " \n",
    "As a first step, we import Numpy, define the number of sites, the starting position and the Hadamard operation, as a $2 \\times 2$ unitary matrix:"
   ]
  },
  {
   "cell_type": "code",
   "execution_count": 2,
   "metadata": {},
   "outputs": [],
   "source": [
    "import numpy as np\n",
    "sites = 14\n",
    "starting_position = 7\n",
    "H = np.array([[1,1],[1,-1]]) / np.sqrt(2)\n",
    "\n",
    "# tensor product with identity\n",
    "H_I = np.kron(H, np.identity(sites))"
   ]
  },
  {
   "cell_type": "markdown",
   "metadata": {},
   "source": [
    "We can define a unitary which moves the coin to the right and left:    "
   ]
  },
  {
   "cell_type": "code",
   "execution_count": 3,
   "metadata": {},
   "outputs": [],
   "source": [
    "U_right = np.diag(np.ones(sites-1), -1)\n",
    "U_right[0, sites-1] = 1\n",
    "\n",
    "U_left = np.diag(np.ones(sites-1), 1)\n",
    "U_left[sites-1,0] = 1"
   ]
  },
  {
   "cell_type": "markdown",
   "metadata": {},
   "source": [
    "To define the move operator, we also need to define a matrix which selects the heads or tails outcomes:"
   ]
  },
  {
   "cell_type": "code",
   "execution_count": 4,
   "metadata": {},
   "outputs": [],
   "source": [
    "heads = np.array([1,0])\n",
    "tails = np.array([0,1])\n",
    "\n",
    "heads_heads = np.outer(heads, heads)\n",
    "tails_tails = np.outer(tails, tails)\n",
    "\n",
    "move = (np.kron(heads_heads, U_right) \n",
    "    + np.kron(tails_tails, U_left))"
   ]
  },
  {
   "cell_type": "code",
   "execution_count": null,
   "metadata": {},
   "outputs": [],
   "source": [
    "We can also initialise our state:\n",
    "\n",
    "    \\begin{python}\n",
    "C = heads\n",
    "S = np.zeros(sites)\n",
    "S[starting_position] = 1\n",
    "psi = np.kron(C, S)\n",
    "\\end{python}\n",
    "We are now ready to simulate our random walk.\n",
    "\\begin{python}\n",
    "classical = False\n",
    "steps = 1000\n",
    "for i in range(steps):\n",
    "    psi = H_I @ psi\n",
    "    psi = move @ psi\n",
    "    # measure position of walker\n",
    "    probs = abs(psi[:sites])**2 + abs(psi[sites:])**2\n",
    "    pos = np.random.choice(range(sites), p=probs)\n",
    "    print(pos)\n",
    "    # if classical, we must project our state \n",
    "    # onto the measured outcome\n",
    "    if classical:\n",
    "        S = np.zeros(sites)\n",
    "        S[pos] = 1\n",
    "        C = heads\n",
    "        psi = np.kron(C, S)\n",
    "\\end{python}\n",
    "If we set the variable \\verb|classical| to \\verb|True|, then we see that we collapse our system after each measurement to the observed outcome, recovering the classical dynamics."
   ]
  }
 ],
 "metadata": {
  "kernelspec": {
   "display_name": "Python 3",
   "language": "python",
   "name": "python3"
  },
  "language_info": {
   "codemirror_mode": {
    "name": "ipython",
    "version": 3
   },
   "file_extension": ".py",
   "mimetype": "text/x-python",
   "name": "python",
   "nbconvert_exporter": "python",
   "pygments_lexer": "ipython3",
   "version": "3.8.5"
  }
 },
 "nbformat": 4,
 "nbformat_minor": 4
}
